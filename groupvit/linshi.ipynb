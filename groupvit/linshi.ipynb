{
 "cells": [
  {
   "cell_type": "code",
   "execution_count": 3,
   "metadata": {},
   "outputs": [],
   "source": [
    "import torch\n",
    "import torch.nn.functional as F\n",
    "import torch.nn as nn\n",
    "from timm.loss import SoftTargetCrossEntropy\n",
    "import numpy as np\n",
    "import math\n",
    "import nltk\n",
    "import mmseg\n",
    "import inflect\n",
    "import pickle\n",
    "import json\n",
    "# nltk.download('wordnet')"
   ]
  },
  {
   "cell_type": "code",
   "execution_count": 4,
   "metadata": {},
   "outputs": [
    {
     "name": "stdout",
     "output_type": "stream",
     "text": [
      "Looking in indexes: http://mirrors.aliyun.com/pypi/simple/"
     ]
    },
    {
     "name": "stderr",
     "output_type": "stream",
     "text": [
      "WARNING: There was an error checking the latest version of pip.\n"
     ]
    },
    {
     "name": "stdout",
     "output_type": "stream",
     "text": [
      "\n",
      "Requirement already satisfied: inflect in d:\\application\\anaconda3\\envs\\pytorch\\lib\\site-packages (6.0.5)\n",
      "Requirement already satisfied: pydantic<2,>=1.9.1 in d:\\application\\anaconda3\\envs\\pytorch\\lib\\site-packages (from inflect) (1.10.12)\n",
      "Requirement already satisfied: typing-extensions>=4.2.0 in d:\\application\\anaconda3\\envs\\pytorch\\lib\\site-packages (from pydantic<2,>=1.9.1->inflect) (4.7.1)\n"
     ]
    }
   ],
   "source": [
    "! pip install inflect"
   ]
  },
  {
   "cell_type": "code",
   "execution_count": 8,
   "metadata": {},
   "outputs": [
    {
     "name": "stdout",
     "output_type": "stream",
     "text": [
      "['washer', 'tunnel', 'lane marking - straight line', 'traffic light - general (single)', 'fence', 'traffic light', 'stage', 'ceiling', 'furniture-other', 'mountain', 'road', 'apparel', 'grandstand', 'waterfall', 'spoon', 'stool', 'couch', 'lane marking - arrow (straight)', 'traffic sign - ambiguou', 'lane marking - ambiguou', 'lane marking - stop line', 'giraffe', 'ceiling-other', 'manhole', 'plant-other', 'traffic light - pedestrian', 'bottle', 'plate', 'impervious_surface', 'conveyer belt', 'orange', 'zebra', 'service lane', 'coffee table', 'other rider', 'counter', 'cage', 'billboard', 'ambiguous barrier', 'tv', 'horse', 'fountain', 'lane marking - arrow (split right or straight)', 'boat', 'painting', 'water valve', 'floor-other', 'road shoulder', 'sky', 'lane marking - arrow (split left or straight)', 'track', 'stairway', 'tray', 'lane marking - text', 'wine glas', 'earth', 'bear', 'water', 'base', 'countertop', 'building', 'traffic sign frame', 'snowboard', 'bicyclist', 'parking aisle', 'streetlight', 'keyboard', 'pole', 'signage - other', 'airplane', 'baseball bat', 'minibike', 'bannister', 'floor-marble', 'lane marking - zigzag line', 'fireplace', 'ship', 'motorcyclist', 'hot dog', 'ceiling-tile', 'mailbox', 'mat', 'hood', 'pier', 'street light', 'car', 'roof', 'baseball glove', 'seat', 'banana', 'signboard', 'carpet', 'arcade machine', 'light', 'remote', 'umbrella', 'signage - information', 'fire hydrant', 'case', 'salad', 'snow', 'cupboard', 'building-other', 'donut', 'pavement', 'signage - advertisement', 'napkin', 'glas', 'signage - ambiguou', 'temporary barrier', 'column', 'bulletin board', 'backpack', 'sculpture', 'cow', 'ground', 'refrigerator', 'food-other', 'suitcase', 'guard rail', 'sofa', 'dog', 'net', 'platform', 'traffic sign', 'road side', 'truck', 'cctv camera', 'sandwich', 'tent', 'scissors', 'lake', 'windowpane', 'clutter', 'bush', 'barrier', 'bench', 'book', 'straw', 'armchair', 'train', 'fog', 'floor', 'rail track', 'concrete block', 'aeroplane', 'utility pole', 'mirror-stuff', 'escalator', 'bookcase', 'flag', 'vehicle group', 'structural-other', 'hair drier', 'dirt track', 'window', 'towel', 'kite', 'sea', 'runway', 'pedestrian area', 'handbag', 'animal', 'broccoli', 'other vehicle', 'elephant', 'water-other', 'pool table', 'rug', 'blanket', 'floor-stone', 'lane marking - other', 'bathtub', 'trailer', 'sconce', 'ego vehicle', 'wardrobe', 'pizza', 'sky-other', 'chest of drawers', 'lane marking - crosswalk', 'sign', 'curb', 'tree', 'sheep', 'person group', 'booth', 'signage - store', 'monitor', 'sand', 'step', 'traffic light - other', 'door-stuff', 'shelf', 'microwave', 'lane marking - general', 'floor-wood', 'tie', 'garage', 'phone booth', 'fruit', 'house', 'pillow', 'catch basin', 'wall-panel', 'bicycle', 'traffic sign - parking', 'plaything', 'traffic sign - direction (back)', 'curtain', 'junction box', 'floor-tile', 'cloth', 'tank', 'window-other', 'screen door', 'buffet', 'clock', 'window-blind', 'laptop', 'flower', 'bridge', 'food', 'pot', 'wood', 'apple', 'gras', 'frisbee', 'plastic', 'mud', 'lane marking - hatched (diagonal)', 'car mount', 'cardboard', 'ground animal', 'teddy bear', 'wall-tile', 'barrel', 'pole group', 'ashcan', 'signage - back', 'bu', 'skateboard', 'person', 'surfboard', 'wall-brick', 'skyscraper', 'lane marking - arrow (left)', 'diningtable', 'terrain', 'traffic light - general (upright)', 'dynamic', 'desk', 'awning', 'ball', 'cat', 'traffic sign (back)', 'cup', 'screen', 'canopy', 'swimming pool', 'dishwasher', 'bed', 'rock', 'plant', 'door', 'wall-other', 'lane marking (only) - crosswalk', 'traffic light - general (horizontal)', 'wheeled slow', 'blind', 'ottoman', 'sidewalk', 'ski', 'tvmonitor', 'paper', 'poster', 'basket', 'stone', 'hovel', 'trade name', 'lane marking - hatched (chevron)', 'bike rack', 'knife', 'television receiver', 'traffic sign - direction (front)', 'bird', 'bike lane', 'land', 'bar', 'bowl', 'radiator', 'traffic sign (front)', 'lane marking (only) - test', 'mirror', 'vase', 'traffic sign - temporary (back)', 'fan', 'cradle', 'static', 'wall-concrete', 'ground-other', 'chair', 'van', 'lane marking (only) - dashed line', 'lane marking - arrow (other)', 'palm', 'dining table', 'driveway', 'bag', 'pothole', 'cushion', 'computer', 'toaster', 'oven', 'lane marking - arrow (right)', 'cell phone', 'mos', 'potted plant', 'motorbike', 'lane marking - give way (row)', 'wall-wood', 'lane marking - symbol (other)', 'solid-other', 'tennis racket', 'shower', 'clothe', 'parking meter', 'branch', 'path', 'cabinet', 'rider', 'stove', 'traffic cone', 'sink', 'toilet', 'on rail', 'vegetation', 'desk-stuff', 'lane marking - dashed line', 'motorcycle', 'river', 'playingfield', 'low_vegetation', 'hill', 'dirt', 'lamp', 'chandelier', 'fork', 'toothbrush', 'road median', 'banner', 'field', 'traffic island', 'waterdrop', 'gravel', 'tower', 'metal', 'lane marking (only) - other', 'mouse', 'stair', 'pottedplant', 'caravan', 'traffic sign - temporary (front)', 'wall', 'curb cut', 'textile-other', 'lane marking - give way (single)', 'cake', 'crt screen', 'railing', 'crosswalk - plain', 'kitchen island', 'box', 'parking', 'leaf', 'cloud', 'stop sign', 'railroad', 'lane separator', 'lane marking - symbol (bicycle)', 'table', 'trash can', 'bedclothe', 'swivel chair', 'traffic light - cyclist', 'sports ball', 'vegetable', 'wall-stone', 'carrot']\n",
      "389\n",
      "列表已保存为文件: mmseg_labels_synonyms.json\n"
     ]
    }
   ],
   "source": [
    "from mmseg.datasets.ade import ADE20KDataset\n",
    "from mmseg.datasets.bdd100k import BDD100KDataset\n",
    "from mmseg.datasets.cityscapes import CityscapesDataset\n",
    "from mmseg.datasets.coco_stuff import COCOStuffDataset\n",
    "from mmseg.datasets.mapillary import MapillaryDataset_v1, MapillaryDataset_v2\n",
    "from mmseg.datasets.pascal_context import PascalContextDataset, PascalContextDataset59\n",
    "from mmseg.datasets.potsdam import PotsdamDataset\n",
    "from mmseg.datasets.voc import PascalVOCDataset\n",
    "remove_labs = ['background', 'unlabeled']\n",
    "def to_lower_single(cls_labels):\n",
    "    p=inflect.engine()\n",
    "    cls_labels_new=[]\n",
    "    for i,lab in enumerate(cls_labels):\n",
    "        lab=lab.lower().strip()\n",
    "        if p.singular_noun(lab):\n",
    "            lab=p.singular_noun(lab)\n",
    "        cls_labels_new.append(lab)\n",
    "    cls_labels=list(set(cls_labels_new))\n",
    "    return cls_labels\n",
    "\n",
    "\n",
    "\n",
    "def save_list_to_file(lst, filename):\n",
    "    # 将列表存储为文件\n",
    "    with open(filename, 'wb') as f:\n",
    "        pickle.dump(lst, f)\n",
    "\n",
    "def load_list_from_file(filename):\n",
    "    # 从文件中加载列表\n",
    "    with open(filename, 'rb') as f:\n",
    "        loaded_list = pickle.load(f)\n",
    "    return loaded_list\n",
    "\n",
    "all_labels = ()\n",
    "all_labels += ADE20KDataset.METAINFO['classes']\n",
    "all_labels += BDD100KDataset.METAINFO['classes']\n",
    "all_labels += CityscapesDataset.METAINFO['classes']\n",
    "all_labels += COCOStuffDataset.METAINFO['classes']\n",
    "all_labels += MapillaryDataset_v1.METAINFO['classes']\n",
    "all_labels += MapillaryDataset_v2.METAINFO['classes']\n",
    "all_labels += PascalContextDataset.METAINFO['classes']\n",
    "all_labels += PascalContextDataset59.METAINFO['classes']\n",
    "all_labels += PotsdamDataset.METAINFO['classes']\n",
    "all_labels += PascalVOCDataset.METAINFO['classes']\n",
    "all_labels = to_lower_single(all_labels)\n",
    "all_labels = list(set(all_labels)-set(remove_labs))\n",
    "# save_list_to_file(all_labels, r'D:\\BaiduSyncdisk\\4.ResarchWorks\\code\\other\\mmseg_labels.pkl')\n",
    "print(all_labels)\n",
    "print(len(all_labels))\n",
    "\n",
    "\n",
    "\n",
    "# 将列表保存为JSON文件\n",
    "filename = 'mmseg_labels_synonyms.json'\n",
    "with open(filename, 'w') as file:\n",
    "    json.dump(all_labels, file)\n",
    "\n",
    "print(\"列表已保存为文件:\", filename)\n"
   ]
  },
  {
   "cell_type": "code",
   "execution_count": 6,
   "metadata": {},
   "outputs": [
    {
     "name": "stdout",
     "output_type": "stream",
     "text": [
      "bed\n",
      "{'aeroplane': ['airplane', 'aircraft', 'jet', 'airliner', 'plane'], 'backpack': ['rucksack', 'knapsack', 'haversack', 'pack', 'sack'], 'furniture-other': ['furnishings', 'movables', 'fittings', 'appointments', 'fixtures'], 'traffic sign (front)': ['road sign', 'street sign', 'traffic signal'], 'wall-tile': ['ceramic tile', 'wall cladding', 'tilework'], 'ottoman': ['footstool', 'pouffe', 'stool', 'hassock'], 'clutter': ['mess', 'jumble', 'litter', 'muddle', 'chaos'], 'motorbike': ['motorcycle', 'bike', 'cycle', 'two-wheeler'], 'ashcan': ['trash can', 'garbage can', 'dustbin', 'waste bin'], 'bush': ['shrub', 'plant', 'hedge'], 'static': ['stationary', 'still', 'motionless'], 'carrot': ['root vegetable'], 'column': ['pillar', 'post', 'shaft'], 'waterdrop': ['droplet'], 'pillow': ['cushion'], 'floor': ['ground', 'flooring'], 'sheep': ['ewe (female sheep)', 'ram (male sheep)', 'lamb (young sheep)'], 'bookcase': ['bookshelf', 'bookrack'], 'lane marking (only) - other': ['road marking'], 'traffic sign - direction (back)': ['directional sign'], 'knife': ['blade', 'cutter'], 'door': ['gateway', 'entranceway'], 'floor-tile': ['floor covering'], 'teddy bear': ['stuffed toy'], 'swimming pool': ['pool'], 'sea': ['ocean'], 'food': ['meal'], 'lake': ['pond'], 'palm': ['palm tree'], 'catch basin': ['storm drain'], 'banana': ['fruit'], 'traffic sign - parking': ['parking sign'], 'wine glas[s]': ['wine goblet'], 'lane marking - give way (single)': ['yield sign'], 'blanket': ['throw'], 'toaster': ['bread toaster'], 'boat': ['vessel'], 'signage - ambiguou[s]': ['ambiguous sign'], 'window': ['casement'], 'lane marking - ambiguou[s]': ['ambiguous road marking'], 'skateboard': ['longboard'], 'mountain': ['peak'], 'bed': ['cot', 'berth'], 'motorcyclist': ['biker', 'motorcycle rider', 'cyclist'], 'lane marking - crosswalk': ['pedestrian crossing', 'zebra crossing', 'walkway'], 'orange': ['citrus fruit', 'tangerine', 'mandarin'], 'cake': ['pastry', 'dessert', 'sweet treat'], 'hill': ['mound', 'knoll', 'hillock'], 'dishwasher': ['dish machine', 'dish cleaner', 'dishwashing appliance'], 'bedclothe': ['bedding', 'bed linen', 'bedspread'], 'parking': ['car park', 'parking lot', 'parking space'], 'canopy': ['awning', 'shade', 'cover'], 'traffic light - cyclist': ['bicycle signal light', 'bike traffic signal', 'cyclist traffic light'], 'wall-other': ['partition', 'barrier', 'divider'], 'concrete block': ['cement block', 'cinder block', 'masonry unit'], 'lane marking - arrow (split left or straight)': ['directional arrow', 'traffic arrow', 'road marking'], 'floor-other': ['ground', 'surface', 'flooring'], 'cup': ['mug', 'teacup', 'drinking vessel'], 'scissors': ['shears', 'cutting tool'], 'clothe': ['garment', 'attire', 'apparel'], 'pool table': ['billiard table', 'snooker table'], 'laptop': ['notebook computer', 'portable computer'], 'giraffe': ['long-necked animal', 'African mammal'], 'bu': ['business unit? (this one is unclear)'], 'ambiguous barrier': ['unclear obstacle', 'vague blockade'], 'window-blind': ['window shade', 'window covering'], 'lane marking - general': ['road marking', 'street line'], 'traffic island': ['safety island', 'pedestrian refuge island'], 'chandelier': ['hanging light fixture', 'pendant light'], 'apparel': ['clothing', 'attire', 'garments'], 'rider': ['horseman/horsewoman (if on horse)', 'cyclist (if on bike)', 'motorcyclist (if on motorcycle)'], 'snowboard': ['snow sport equipment'], 'motorcycle': ['motorbike', 'bike'], 'snow': ['snowfall'], 'tray': ['platter'], 'painting': ['artwork'], 'broccoli': ['green vegetable'], 'water valve': ['water control valve'], 'book': ['novel'], 'train': ['locomotive'], 'mud': ['wet soil'], 'counter': ['countertop'], 'traffic light - pedestrian': ['pedestrian signal light'], 'barrier': ['blockade'], 'floor-stone': ['stone flooring'], 'carpet': ['rug'], 'mirror': ['looking glass'], 'path': ['trail'], 'ego vehicle': ['self-driving car'], 'gravel': ['small stones'], 'napkin': ['serviette'], 'waterfall': ['cascade'], 'traffic cone': ['safety cone'], 'screen door': ['storm door'], 'stairway': ['staircase'], 'floor-marble': ['marble flooring'], 'vegetable': ['veggie'], 'mailbox': ['postbox'], 'parking aisle': ['parking lane'], 'door-stuff': ['door accessories', 'door hardware'], 'barrel': ['cask', 'drum'], 'wall-panel': ['wall board', 'wall sheeting'], 'lane marking - arrow (left)': ['left turn arrow', 'left directional arrow'], 'conveyer belt': ['transport belt', 'moving belt'], 'ceiling-other': ['overhead surface', 'upper interior surface'], 'sculpture': ['statue', 'carving'], 'signage - advertisement': ['ad sign', 'promotional signage'], 'solid-other': ['solid object', 'solid material'], 'mirror-stuff': ['mirror accessories', 'mirror hardware'], 'lane marking - hatched (chevron)': ['chevron marking', 'hatched road marking'], 'sign': ['placard', 'notice'], 'refrigerator': ['fridge', 'cooler'], 'signage - other': ['miscellaneous sign', 'various signage'], 'lane separator': ['lane divider', 'road separator'], 'wall-wood': ['wooden wall', 'timber wall'], 'bulletin board': ['notice board', 'pinboard'], 'bottle': ['container', 'flask'], 'traffic sign - temporary (front)': ['temporary road sign', 'provisional traffic sign'], 'lane marking - dashed line': ['broken line marking', 'dash road line'], 'fence': ['barrier', 'railing', 'enclosure'], 'building': ['structure', 'edifice', 'construction'], 'curb cut': ['curb ramp', 'dropped kerb', 'pram ramp'], 'towel': ['cloth', 'rag', 'napkin'], 'basket': ['hamper', 'bin', 'container'], 'lane marking - arrow (straight)': ['straight arrow marking', 'forward direction arrow'], 'parking meter': ['parking machine', 'ticket machine'], 'chair': ['seat', 'armchair', 'stool'], 'branch': ['twig', 'limb', 'bough'], 'sink': ['basin', 'washbasin', 'washbowl'], 'pot': ['pan', 'vessel', 'container'], 'hair drier': ['hairdryer', 'blow dryer'], 'dynamic': ['changing', 'active', 'variable'], 'lane marking - stop line': ['stop line marking', 'halt line'], 'wall-concrete': ['concrete wall', 'cement wall'], 'diningtable': ['dining table', 'dinner table'], 'armchair': ['lounge chair', 'recliner'], 'window-other': ['other window types (this one is unclear without context)'], 'person group': ['group of people', 'crowd'], 'temporary barrier': ['temporary blockade', 'provisional barrier'], 'couch': ['sofa', 'settee'], 'hood': ['bonnet (UK)', 'car hood'], 'fruit': ['produce', 'sweet produce'], 'fireplace': ['hearth', 'mantel'], 'road side': ['roadside', 'curb', 'pavement edge'], 'bannister': ['handrail', 'stair rail', 'railing'], 'dog': ['canine', 'pup', 'hound'], 'ceiling-tile': ['ceiling panel', 'drop ceiling tile'], 'signage - store': ['store sign', 'shop signage', 'retail sign'], 'structural-other': ['other structural elements (this one is unclear without context)'], 'surfboard': ['wave rider', 'surf plank'], 'computer': ['PC', 'desktop', 'laptop'], 'wall-stone': ['stone wall', 'rock wall'], 'airplane': ['aircraft', 'jet', 'airliner'], 'straw': ['drinking straw', 'sipper'], 'lane marking - arrow (split right or straight)': ['right or straight directional arrow'], 'cage': ['enclosure', 'pen', 'coop'], 'desk-stuff': ['desk items', 'desk accessories'], 'lane marking - other': ['other road markings (this one is unclear without context)'], 'sconce': ['wall light', 'wall lamp'], 'ground': ['earth', 'soil', 'terrain'], 'dining table': ['dinner table', 'eating table'], 'mouse': ['computer mouse', 'pointer device'], 'fog': ['mist', 'haze'], 'van': ['minivan', 'vehicle', 'transporter'], 'traffic light': ['stoplight', 'signal light'], 'microwave': ['microwave oven', 'heating appliance'], 'cushion': ['pillow', 'pad', 'bolster'], 'pole': ['post', 'rod', 'stake'], 'low_vegetation': ['shrubs', 'undergrowth', 'ground cover'], 'suitcase': ['luggage', 'bag', 'case'], 'building-other': ['other types of buildings (this one is unclear without context)'], 'floor-wood': ['wooden floor', 'hardwood floor'], 'bowl': ['dish', 'basin', 'container'], 'railing': ['rail', 'banister', 'balustrade'], 'plate': ['dish', 'platter'], 'water': ['H2O', 'liquid', 'aqua'], 'land': ['ground', 'earth', 'terrain'], 'traffic light - general (upright)': ['upright traffic signal', 'vertical traffic light'], 'lane marking - text': ['text road marking', 'lettered lane marking'], 'lane marking - zigzag line': ['zigzag road marking'], 'stool': ['seat', 'chair without a back'], 'curtain': ['drapes', 'window covering'], 'tree': ['plant', 'timber', 'wood'], 'animal': ['creature', 'beast', 'fauna'], 'service lane': ['access road', 'service road', 'frontage road'], 'lane marking - symbol (other)': ['other symbol road marking (this one is unclear without context)'], 'donut': ['doughnut', 'sweet roll', 'pastry ring'], 'kitchen island': ['cooking island', 'center island'], 'cow': ['bovine', 'cattle'], 'washer': ['washing machine', 'laundry machine'], 'pothole': ['road hole', 'pavement pit'], 'field': ['meadow', 'pasture', 'open land'], 'box': ['container', 'case', 'package'], 'stage': ['platform', 'podium', 'performance area'], 'signage - back': ['back of sign (this one is unclear without context)'], 'fan': ['ventilator', 'air circulator'], 'mos': ['metal–oxide–semiconductor? (this one is unclear)'], 'river': ['stream', 'waterway', 'brook'], 'lane marking - arrow (right)': ['right turn arrow', 'right directional arrow'], 'platform': ['stand', 'podium', 'stage'], 'lane marking - give way (row)': ['yield line marking', 'give way line'], 'kite': ['wind toy', 'flying toy'], 'sky': ['heavens', 'atmosphere'], 'tank': ['reservoir', 'container'], 'shelf': ['rack', 'ledge', 'bookshelf'], 'signage - information': ['information sign', 'info signage'], 'trade name': ['brand name', 'business name'], 'traffic sign - ambiguou': ['ambiguous traffic sign (this one is unclear without context)'], 'car mount': ['vehicle mount', 'auto holder'], 'hot dog': ['frankfurter', 'wiener', 'sausage in a bun'], 'roof': ['rooftop', 'ceiling', 'top of a building'], 'lane marking - arrow (other)': ['other arrow road marking (this one is unclear without context)'], 'manhole': ['sewer entrance', 'utility hole'], 'hovel': ['shack', 'hut', 'small house'], 'plant-other': ['other types of plants (this one is unclear without context)'], 'caravan': ['trailer', 'mobile home'], 'bicyclist': ['cyclist', 'bike rider'], 'wardrobe': ['closet', 'clothes storage'], 'tvmonitor': ['television monitor', 'TV screen'], 'water-other': ['other types of water (this one is unclear without context)'], 'lane marking - symbol (bicycle)': ['bicycle symbol road marking'], 'booth': ['stall', 'kiosk'], 'cardboard': ['paperboard', 'corrugated fiberboard'], 'road shoulder': ['roadside', 'edge of the road'], 'coffee table': ['cocktail table', 'low table'], 'lane marking - hatched (diagonal)': ['diagonal hatched road marking'], 'tennis racket': ['tennis racquet', 'tennis bat'], 'base': ['foundation', 'bottom'], 'cat': ['feline', 'kitty'], 'impervious_surface': ['non-absorbent surface', 'waterproof surface'], 'tie': ['necktie', 'cravat'], 'vase': ['jar', 'urn'], 'other vehicle': ['different vehicle', 'alternative vehicle'], 'wall': ['barrier', 'partition'], 'tower': ['spire', 'turret'], 'bear': ['bruin', 'beast'], 'case': ['box', 'container'], 'wall-brick': ['brick wall', 'masonry wall'], 'net': ['mesh', 'web'], 'tv': ['television', 'telly'], 'blind': ['window blind', 'shade'], 'apple': ['fruit', 'pomaceous fruit'], 'ground-other': ['other types of ground (this one is unclear without context)'], 'railroad': ['railway', 'train track'], 'driveway': ['drive', 'access road'], 'desk': ['workstation', 'table'], 'elephant': ['pachyderm', 'large mammal'], 'leaf': ['foliage', 'frond'], 'poster': ['placard', 'billboard'], 'cell phone': ['mobile phone', 'smartphone'], 'buffet': ['smorgasbord', 'self-service meal'], 'rug': ['carpet', 'mat'], 'on rail': ['on track', 'on railway'], 'trash can': ['garbage bin', 'waste basket'], 'traffic light - other': ['other traffic signal (this one is unclear without context)'], 'ball': ['sphere', 'orb'], 'street light': ['streetlamp', 'road light'], 'garage': ['carport', 'vehicle storage'], 'windowpane': ['window glass', 'glazing'], 'streetlight': ['road light', 'lamppost'], 'minibike': ['mini motorcycle', 'small motorbike'], 'toilet': ['lavatory', 'loo'], 'grandstand': ['bleachers', 'spectator stand'], 'bathtub': ['bath', 'tub'], 'stove': ['cooker', 'range'], 'arcade machine': ['game machine', 'coin-operated machine'], 'keyboard': ['keypad', 'typing device'], 'lane marking - straight line': ['straight line road marking', 'straight lane line'], 'flag': ['banner', 'standard', 'ensign'], 'light': ['illumination', 'lamp', 'lighting'], 'vegetation': ['plants', 'flora', 'greenery'], 'traffic sign - temporary (back)': ['back of temporary traffic sign (this one is unclear without context)'], 'utility pole': ['power pole', 'telephone pole'], 'fork': ['prong', 'utensil'], 'cctv camera': ['surveillance camera', 'security camera'], 'zebra': ['striped horse', 'African equine'], 'bike lane': ['bicycle lane', 'cycling path'], 'traffic light - general (single)': ['single traffic signal', 'standalone traffic light'], 'rock': ['stone', 'boulder'], 'fountain': ['water feature', 'spring', 'water fountain'], 'countertop': ['counter', 'worktop'], 'stone': ['rock', 'pebble'], 'car': ['automobile', 'vehicle'], 'awning': ['canopy', 'sunshade'], 'tunnel': ['underpass', 'subway'], 'umbrella': ['parasol', 'brolly'], 'oven': ['stove', 'cooker'], 'wood': ['timber', 'lumber'], 'crosswalk - plain': ['pedestrian crossing', 'zebra crossing'], 'bird': ['avian', 'fowl'], 'ceiling': ['roof', 'overhead surface'], 'bench': ['seat', 'pew'], 'baseball glove': ['mitt', \"fielder's glove\"], 'bag': ['sack', 'pouch'], 'sky-other': ['other types of sky (this one is unclear without context)'], 'metal': ['alloy', 'iron'], 'pottedplant': ['houseplant', 'indoor plant'], 'sidewalk': ['pavement', 'footpath'], 'spoon': ['utensil', 'silverware'], 'glas': ['glass', 'tumbler'], 'guard rail': ['safety rail', 'barrier'], 'handbag': ['purse', 'bag'], 'cupboard': ['cabinet', 'closet'], 'playingfield': ['sports field', 'pitch'], 'other rider': ['different rider (this one is unclear without context)'], 'billboard': ['signboard', 'hoarding'], 'rail track': ['railway track', 'train track'], 'bar': ['pub', 'tavern'], 'person': ['man', 'woman', 'firefighter', 'actor', 'policeman', 'teacher', 'doctor', 'engineer'], 'pizza': ['pie', 'flatbread'], 'cabinet': ['cupboard', 'case'], 'ground animal': ['land animal (this one is unclear without context)'], 'pavement': ['sidewalk', 'footpath'], 'terrain': ['landscape', 'ground'], 'lamp': ['light', 'lantern', 'light fixture'], 'paper': ['sheet', 'parchment', 'stationery'], 'skyscraper': ['high-rise', 'tower', 'tall building'], 'phone booth': ['telephone booth', 'call box'], 'sand': ['grit', 'silica', 'beach material'], 'radiator': ['heater', 'heat exchanger'], 'earth': ['soil', 'ground', 'dirt'], 'swivel chair': ['rotating chair', 'office chair'], 'fire hydrant': ['fire plug', 'fire pump'], 'runway': ['airstrip', 'landing strip'], 'toothbrush': ['dental brush'], 'traffic sign frame': ['signpost', 'sign frame'], 'escalator': ['moving staircase', 'moving steps'], 'dirt': ['soil', 'earth', 'ground'], 'clock': ['timepiece', 'chronometer'], 'sports ball': ['game ball (specific type depends on the sport)'], 'cloud': ['cumulus', 'stratus (specific type depends on the appearance)'], 'chest of drawers': ['dresser', 'bureau'], 'lane marking (only) - test': ['test lane marking (this one is unclear without context)'], 'mat': ['rug', 'pad'], 'junction box': ['electrical box', 'splice box'], 'remote': ['remote control', 'clicker'], 'pedestrian area': ['walkway', 'footpath'], 'flower': ['bloom', 'blossom'], 'track': ['path', 'trail (or rails for a train)'], 'road median': ['central reservation (UK)', 'median strip'], 'curb': ['kerb (UK)', 'edge of the pavement'], 'gras': ['grass (this seems like a typo)'], 'bridge': ['overpass', 'viaduct'], 'road': ['street', 'highway', 'route'], 'baseball bat': ['bat', 'slugger'], 'lane marking (only) - dashed line': ['dashed lane line', 'broken lane marking'], 'bicycle': ['bike', 'cycle'], 'table': ['desk', 'countertop'], 'lane marking (only) - crosswalk': ['crosswalk lane marking', 'pedestrian crossing line'], 'ship': ['boat', 'vessel'], 'screen': ['display', 'monitor'], 'potted plant': ['houseplant', 'indoor plant'], 'step': ['stair', 'riser'], 'plant': ['flora', 'vegetation'], 'cloth': ['fabric', 'material'], 'sofa': ['couch', 'settee'], 'monitor': ['screen', 'display'], 'traffic sign': ['road sign', 'street sign'], 'traffic sign - direction (front)': ['directional traffic sign', 'guide sign'], 'traffic light - general (horizontal)': ['horizontal traffic signal', 'roadside traffic light'], 'plastic': ['synthetic material', 'polymer'], 'pole group': ['collection of poles (this one is unclear without context)'], 'stop sign': ['halt sign', 'traffic stop sign'], 'shower': ['bath', 'rinse'], 'trailer': ['mobile home', 'caravan'], 'house': ['home', 'residence'], 'horse': ['equine', 'steed'], 'pier': ['dock', 'wharf'], 'frisbee': ['flying disc', 'disc toy'], 'wheeled slow': ['slow-moving vehicle (this one is unclear without context)'], 'traffic sign (back)': ['back of traffic sign (this one is unclear without context)'], 'textile-other': ['other types of fabric', 'various textiles'], 'salad': ['greens', 'mixed vegetables'], 'vehicle group': ['fleet of vehicles', 'collection of vehicles'], 'cradle': ['crib', 'bassinet'], 'signboard': ['signage', 'placard'], 'food-other': ['other types of food (this one is unclear without context)'], 'truck': ['lorry', 'pickup'], 'crt screen': ['cathode ray tube display', 'tube screen'], 'bike rack': ['bicycle stand', 'cycle rack'], 'sandwich': ['sub', 'hoagie'], 'dirt track': ['trail', 'path'], 'stair': ['step', 'staircase'], 'plaything': ['toy', 'game'], 'ski': ['skis', 'ski equipment'], 'tent': ['canopy', 'shelter'], 'banner': ['flag', 'sign'], 'seat': ['chair', 'bench'], 'television receiver': ['TV set', 'television set']}\n",
      "389\n",
      "字典已保存为文件: mmseg_labels_synonyms_dictionary.json\n",
      "['airplane', 'aircraft', 'jet', 'airliner', 'plane', 'rucksack', 'knapsack', 'haversack', 'pack', 'sack', 'furnishings', 'movables', 'fittings', 'appointments', 'fixtures', 'road sign', 'street sign', 'traffic signal', 'ceramic tile', 'wall cladding', 'tilework', 'footstool', 'pouffe', 'stool', 'hassock', 'mess', 'jumble', 'litter', 'muddle', 'chaos', 'motorcycle', 'bike', 'cycle', 'two-wheeler', 'trash can', 'garbage can', 'dustbin', 'waste bin', 'shrub', 'plant', 'hedge', 'stationary', 'still', 'motionless', 'root vegetable', 'pillar', 'post', 'shaft', 'droplet', 'cushion', 'ground', 'flooring', 'ewe (female sheep)', 'ram (male sheep)', 'lamb (young sheep)', 'bookshelf', 'bookrack', 'road marking', 'directional sign', 'blade', 'cutter', 'gateway', 'entranceway', 'floor covering', 'stuffed toy', 'pool', 'ocean', 'meal', 'pond', 'palm tree', 'storm drain', 'fruit', 'parking sign', 'wine goblet', 'yield sign', 'throw', 'bread toaster', 'vessel', 'ambiguous sign', 'casement', 'ambiguous road marking', 'longboard', 'peak', 'cot', 'berth', 'biker', 'motorcycle rider', 'cyclist', 'pedestrian crossing', 'zebra crossing', 'walkway', 'citrus fruit', 'tangerine', 'mandarin', 'pastry', 'dessert', 'sweet treat', 'mound', 'knoll', 'hillock', 'dish machine', 'dish cleaner', 'dishwashing appliance', 'bedding', 'bed linen', 'bedspread', 'car park', 'parking lot', 'parking space', 'awning', 'shade', 'cover', 'bicycle signal light', 'bike traffic signal', 'cyclist traffic light', 'partition', 'barrier', 'divider', 'cement block', 'cinder block', 'masonry unit', 'directional arrow', 'traffic arrow', 'road marking', 'ground', 'surface', 'flooring', 'mug', 'teacup', 'drinking vessel', 'shears', 'cutting tool', 'garment', 'attire', 'apparel', 'billiard table', 'snooker table', 'notebook computer', 'portable computer', 'long-necked animal', 'African mammal', 'business unit? (this one is unclear)', 'unclear obstacle', 'vague blockade', 'window shade', 'window covering', 'road marking', 'street line', 'safety island', 'pedestrian refuge island', 'hanging light fixture', 'pendant light', 'clothing', 'attire', 'garments', 'horseman/horsewoman (if on horse)', 'cyclist (if on bike)', 'motorcyclist (if on motorcycle)', 'snow sport equipment', 'motorbike', 'bike', 'snowfall', 'platter', 'artwork', 'green vegetable', 'water control valve', 'novel', 'locomotive', 'wet soil', 'countertop', 'pedestrian signal light', 'blockade', 'stone flooring', 'rug', 'looking glass', 'trail', 'self-driving car', 'small stones', 'serviette', 'cascade', 'safety cone', 'storm door', 'staircase', 'marble flooring', 'veggie', 'postbox', 'parking lane', 'door accessories', 'door hardware', 'cask', 'drum', 'wall board', 'wall sheeting', 'left turn arrow', 'left directional arrow', 'transport belt', 'moving belt', 'overhead surface', 'upper interior surface', 'statue', 'carving', 'ad sign', 'promotional signage', 'solid object', 'solid material', 'mirror accessories', 'mirror hardware', 'chevron marking', 'hatched road marking', 'placard', 'notice', 'fridge', 'cooler', 'miscellaneous sign', 'various signage', 'lane divider', 'road separator', 'wooden wall', 'timber wall', 'notice board', 'pinboard', 'container', 'flask', 'temporary road sign', 'provisional traffic sign', 'broken line marking', 'dash road line', 'barrier', 'railing', 'enclosure', 'structure', 'edifice', 'construction', 'curb ramp', 'dropped kerb', 'pram ramp', 'cloth', 'rag', 'napkin', 'hamper', 'bin', 'container', 'straight arrow marking', 'forward direction arrow', 'parking machine', 'ticket machine', 'seat', 'armchair', 'stool', 'twig', 'limb', 'bough', 'basin', 'washbasin', 'washbowl', 'pan', 'vessel', 'container', 'hairdryer', 'blow dryer', 'changing', 'active', 'variable', 'stop line marking', 'halt line', 'concrete wall', 'cement wall', 'dining table', 'dinner table', 'lounge chair', 'recliner', 'other window types (this one is unclear without context)', 'group of people', 'crowd', 'temporary blockade', 'provisional barrier', 'sofa', 'settee', 'bonnet (UK)', 'car hood', 'produce', 'sweet produce', 'hearth', 'mantel', 'roadside', 'curb', 'pavement edge', 'handrail', 'stair rail', 'railing', 'canine', 'pup', 'hound', 'ceiling panel', 'drop ceiling tile', 'store sign', 'shop signage', 'retail sign', 'other structural elements (this one is unclear without context)', 'wave rider', 'surf plank', 'PC', 'desktop', 'laptop', 'stone wall', 'rock wall', 'aircraft', 'jet', 'airliner', 'drinking straw', 'sipper', 'right or straight directional arrow', 'enclosure', 'pen', 'coop', 'desk items', 'desk accessories', 'other road markings (this one is unclear without context)', 'wall light', 'wall lamp', 'earth', 'soil', 'terrain', 'dinner table', 'eating table', 'computer mouse', 'pointer device', 'mist', 'haze', 'minivan', 'vehicle', 'transporter', 'stoplight', 'signal light', 'microwave oven', 'heating appliance', 'pillow', 'pad', 'bolster', 'post', 'rod', 'stake', 'shrubs', 'undergrowth', 'ground cover', 'luggage', 'bag', 'case', 'other types of buildings (this one is unclear without context)', 'wooden floor', 'hardwood floor', 'dish', 'basin', 'container', 'rail', 'banister', 'balustrade', 'dish', 'platter', 'H2O', 'liquid', 'aqua', 'ground', 'earth', 'terrain', 'upright traffic signal', 'vertical traffic light', 'text road marking', 'lettered lane marking', 'zigzag road marking', 'seat', 'chair without a back', 'drapes', 'window covering', 'plant', 'timber', 'wood', 'creature', 'beast', 'fauna', 'access road', 'service road', 'frontage road', 'other symbol road marking (this one is unclear without context)', 'doughnut', 'sweet roll', 'pastry ring', 'cooking island', 'center island', 'bovine', 'cattle', 'washing machine', 'laundry machine', 'road hole', 'pavement pit', 'meadow', 'pasture', 'open land', 'container', 'case', 'package', 'platform', 'podium', 'performance area', 'back of sign (this one is unclear without context)', 'ventilator', 'air circulator', 'metal–oxide–semiconductor? (this one is unclear)', 'stream', 'waterway', 'brook', 'right turn arrow', 'right directional arrow', 'stand', 'podium', 'stage', 'yield line marking', 'give way line', 'wind toy', 'flying toy', 'heavens', 'atmosphere', 'reservoir', 'container', 'rack', 'ledge', 'bookshelf', 'information sign', 'info signage', 'brand name', 'business name', 'ambiguous traffic sign (this one is unclear without context)', 'vehicle mount', 'auto holder', 'frankfurter', 'wiener', 'sausage in a bun', 'rooftop', 'ceiling', 'top of a building', 'other arrow road marking (this one is unclear without context)', 'sewer entrance', 'utility hole', 'shack', 'hut', 'small house', 'other types of plants (this one is unclear without context)', 'trailer', 'mobile home', 'cyclist', 'bike rider', 'closet', 'clothes storage', 'television monitor', 'TV screen', 'other types of water (this one is unclear without context)', 'bicycle symbol road marking', 'stall', 'kiosk', 'paperboard', 'corrugated fiberboard', 'roadside', 'edge of the road', 'cocktail table', 'low table', 'diagonal hatched road marking', 'tennis racquet', 'tennis bat', 'foundation', 'bottom', 'feline', 'kitty', 'non-absorbent surface', 'waterproof surface', 'necktie', 'cravat', 'jar', 'urn', 'different vehicle', 'alternative vehicle', 'barrier', 'partition', 'spire', 'turret', 'bruin', 'beast', 'box', 'container', 'brick wall', 'masonry wall', 'mesh', 'web', 'television', 'telly', 'window blind', 'shade', 'fruit', 'pomaceous fruit', 'other types of ground (this one is unclear without context)', 'railway', 'train track', 'drive', 'access road', 'workstation', 'table', 'pachyderm', 'large mammal', 'foliage', 'frond', 'placard', 'billboard', 'mobile phone', 'smartphone', 'smorgasbord', 'self-service meal', 'carpet', 'mat', 'on track', 'on railway', 'garbage bin', 'waste basket', 'other traffic signal (this one is unclear without context)', 'sphere', 'orb', 'streetlamp', 'road light', 'carport', 'vehicle storage', 'window glass', 'glazing', 'road light', 'lamppost', 'mini motorcycle', 'small motorbike', 'lavatory', 'loo', 'bleachers', 'spectator stand', 'bath', 'tub', 'cooker', 'range', 'game machine', 'coin-operated machine', 'keypad', 'typing device', 'straight line road marking', 'straight lane line', 'banner', 'standard', 'ensign', 'illumination', 'lamp', 'lighting', 'plants', 'flora', 'greenery', 'back of temporary traffic sign (this one is unclear without context)', 'power pole', 'telephone pole', 'prong', 'utensil', 'surveillance camera', 'security camera', 'striped horse', 'African equine', 'bicycle lane', 'cycling path', 'single traffic signal', 'standalone traffic light', 'stone', 'boulder', 'water feature', 'spring', 'water fountain', 'counter', 'worktop', 'rock', 'pebble', 'automobile', 'vehicle', 'canopy', 'sunshade', 'underpass', 'subway', 'parasol', 'brolly', 'stove', 'cooker', 'timber', 'lumber', 'pedestrian crossing', 'zebra crossing', 'avian', 'fowl', 'roof', 'overhead surface', 'seat', 'pew', 'mitt', \"fielder's glove\", 'sack', 'pouch', 'other types of sky (this one is unclear without context)', 'alloy', 'iron', 'houseplant', 'indoor plant', 'pavement', 'footpath', 'utensil', 'silverware', 'glass', 'tumbler', 'safety rail', 'barrier', 'purse', 'bag', 'cabinet', 'closet', 'sports field', 'pitch', 'different rider (this one is unclear without context)', 'signboard', 'hoarding', 'railway track', 'train track', 'pub', 'tavern', 'man', 'woman', 'firefighter', 'actor', 'policeman', 'teacher', 'doctor', 'engineer', 'pie', 'flatbread', 'cupboard', 'case', 'land animal (this one is unclear without context)', 'sidewalk', 'footpath', 'landscape', 'ground', 'light', 'lantern', 'light fixture', 'sheet', 'parchment', 'stationery', 'high-rise', 'tower', 'tall building', 'telephone booth', 'call box', 'grit', 'silica', 'beach material', 'heater', 'heat exchanger', 'soil', 'ground', 'dirt', 'rotating chair', 'office chair', 'fire plug', 'fire pump', 'airstrip', 'landing strip', 'dental brush', 'signpost', 'sign frame', 'moving staircase', 'moving steps', 'soil', 'earth', 'ground', 'timepiece', 'chronometer', 'game ball (specific type depends on the sport)', 'cumulus', 'stratus (specific type depends on the appearance)', 'dresser', 'bureau', 'test lane marking (this one is unclear without context)', 'rug', 'pad', 'electrical box', 'splice box', 'remote control', 'clicker', 'walkway', 'footpath', 'bloom', 'blossom', 'path', 'trail (or rails for a train)', 'central reservation (UK)', 'median strip', 'kerb (UK)', 'edge of the pavement', 'grass (this seems like a typo)', 'overpass', 'viaduct', 'street', 'highway', 'route', 'bat', 'slugger', 'dashed lane line', 'broken lane marking', 'bike', 'cycle', 'desk', 'countertop', 'crosswalk lane marking', 'pedestrian crossing line', 'boat', 'vessel', 'display', 'monitor', 'houseplant', 'indoor plant', 'stair', 'riser', 'flora', 'vegetation', 'fabric', 'material', 'couch', 'settee', 'screen', 'display', 'road sign', 'street sign', 'directional traffic sign', 'guide sign', 'horizontal traffic signal', 'roadside traffic light', 'synthetic material', 'polymer', 'collection of poles (this one is unclear without context)', 'halt sign', 'traffic stop sign', 'bath', 'rinse', 'mobile home', 'caravan', 'home', 'residence', 'equine', 'steed', 'dock', 'wharf', 'flying disc', 'disc toy', 'slow-moving vehicle (this one is unclear without context)', 'back of traffic sign (this one is unclear without context)', 'other types of fabric', 'various textiles', 'greens', 'mixed vegetables', 'fleet of vehicles', 'collection of vehicles', 'crib', 'bassinet', 'signage', 'placard', 'other types of food (this one is unclear without context)', 'lorry', 'pickup', 'cathode ray tube display', 'tube screen', 'bicycle stand', 'cycle rack', 'sub', 'hoagie', 'trail', 'path', 'step', 'staircase', 'toy', 'game', 'skis', 'ski equipment', 'canopy', 'shelter', 'flag', 'sign', 'chair', 'bench', 'TV set', 'television set', 'aeroplane', 'backpack', 'furniture-other', 'traffic sign (front)', 'wall-tile', 'ottoman', 'clutter', 'motorbike', 'ashcan', 'bush', 'static', 'carrot', 'column', 'waterdrop', 'pillow', 'floor', 'sheep', 'bookcase', 'lane marking (only) - other', 'traffic sign - direction (back)', 'knife', 'door', 'floor-tile', 'teddy bear', 'swimming pool', 'sea', 'food', 'lake', 'palm', 'catch basin', 'banana', 'traffic sign - parking', 'wine glas[s]', 'lane marking - give way (single)', 'blanket', 'toaster', 'boat', 'signage - ambiguou[s]', 'window', 'lane marking - ambiguou[s]', 'skateboard', 'mountain', 'bed', 'motorcyclist', 'lane marking - crosswalk', 'orange', 'cake', 'hill', 'dishwasher', 'bedclothe', 'parking', 'canopy', 'traffic light - cyclist', 'wall-other', 'concrete block', 'lane marking - arrow (split left or straight)', 'floor-other', 'cup', 'scissors', 'clothe', 'pool table', 'laptop', 'giraffe', 'bu', 'ambiguous barrier', 'window-blind', 'lane marking - general', 'traffic island', 'chandelier', 'apparel', 'rider', 'snowboard', 'motorcycle', 'snow', 'tray', 'painting', 'broccoli', 'water valve', 'book', 'train', 'mud', 'counter', 'traffic light - pedestrian', 'barrier', 'floor-stone', 'carpet', 'mirror', 'path', 'ego vehicle', 'gravel', 'napkin', 'waterfall', 'traffic cone', 'screen door', 'stairway', 'floor-marble', 'vegetable', 'mailbox', 'parking aisle', 'door-stuff', 'barrel', 'wall-panel', 'lane marking - arrow (left)', 'conveyer belt', 'ceiling-other', 'sculpture', 'signage - advertisement', 'solid-other', 'mirror-stuff', 'lane marking - hatched (chevron)', 'sign', 'refrigerator', 'signage - other', 'lane separator', 'wall-wood', 'bulletin board', 'bottle', 'traffic sign - temporary (front)', 'lane marking - dashed line', 'fence', 'building', 'curb cut', 'towel', 'basket', 'lane marking - arrow (straight)', 'parking meter', 'chair', 'branch', 'sink', 'pot', 'hair drier', 'dynamic', 'lane marking - stop line', 'wall-concrete', 'diningtable', 'armchair', 'window-other', 'person group', 'temporary barrier', 'couch', 'hood', 'fruit', 'fireplace', 'road side', 'bannister', 'dog', 'ceiling-tile', 'signage - store', 'structural-other', 'surfboard', 'computer', 'wall-stone', 'airplane', 'straw', 'lane marking - arrow (split right or straight)', 'cage', 'desk-stuff', 'lane marking - other', 'sconce', 'ground', 'dining table', 'mouse', 'fog', 'van', 'traffic light', 'microwave', 'cushion', 'pole', 'low_vegetation', 'suitcase', 'building-other', 'floor-wood', 'bowl', 'railing', 'plate', 'water', 'land', 'traffic light - general (upright)', 'lane marking - text', 'lane marking - zigzag line', 'stool', 'curtain', 'tree', 'animal', 'service lane', 'lane marking - symbol (other)', 'donut', 'kitchen island', 'cow', 'washer', 'pothole', 'field', 'box', 'stage', 'signage - back', 'fan', 'mos', 'river', 'lane marking - arrow (right)', 'platform', 'lane marking - give way (row)', 'kite', 'sky', 'tank', 'shelf', 'signage - information', 'trade name', 'traffic sign - ambiguou', 'car mount', 'hot dog', 'roof', 'lane marking - arrow (other)', 'manhole', 'hovel', 'plant-other', 'caravan', 'bicyclist', 'wardrobe', 'tvmonitor', 'water-other', 'lane marking - symbol (bicycle)', 'booth', 'cardboard', 'road shoulder', 'coffee table', 'lane marking - hatched (diagonal)', 'tennis racket', 'base', 'cat', 'impervious_surface', 'tie', 'vase', 'other vehicle', 'wall', 'tower', 'bear', 'case', 'wall-brick', 'net', 'tv', 'blind', 'apple', 'ground-other', 'railroad', 'driveway', 'desk', 'elephant', 'leaf', 'poster', 'cell phone', 'buffet', 'rug', 'on rail', 'trash can', 'traffic light - other', 'ball', 'street light', 'garage', 'windowpane', 'streetlight', 'minibike', 'toilet', 'grandstand', 'bathtub', 'stove', 'arcade machine', 'keyboard', 'lane marking - straight line', 'flag', 'light', 'vegetation', 'traffic sign - temporary (back)', 'utility pole', 'fork', 'cctv camera', 'zebra', 'bike lane', 'traffic light - general (single)', 'rock', 'fountain', 'countertop', 'stone', 'car', 'awning', 'tunnel', 'umbrella', 'oven', 'wood', 'crosswalk - plain', 'bird', 'ceiling', 'bench', 'baseball glove', 'bag', 'sky-other', 'metal', 'pottedplant', 'sidewalk', 'spoon', 'glas', 'guard rail', 'handbag', 'cupboard', 'playingfield', 'other rider', 'billboard', 'rail track', 'bar', 'person', 'pizza', 'cabinet', 'ground animal', 'pavement', 'terrain', 'lamp', 'paper', 'skyscraper', 'phone booth', 'sand', 'radiator', 'earth', 'swivel chair', 'fire hydrant', 'runway', 'toothbrush', 'traffic sign frame', 'escalator', 'dirt', 'clock', 'sports ball', 'cloud', 'chest of drawers', 'lane marking (only) - test', 'mat', 'junction box', 'remote', 'pedestrian area', 'flower', 'track', 'road median', 'curb', 'gras', 'bridge', 'road', 'baseball bat', 'lane marking (only) - dashed line', 'bicycle', 'table', 'lane marking (only) - crosswalk', 'ship', 'screen', 'potted plant', 'step', 'plant', 'cloth', 'sofa', 'monitor', 'traffic sign', 'traffic sign - direction (front)', 'traffic light - general (horizontal)', 'plastic', 'pole group', 'stop sign', 'shower', 'trailer', 'house', 'horse', 'pier', 'frisbee', 'wheeled slow', 'traffic sign (back)', 'textile-other', 'salad', 'vehicle group', 'cradle', 'signboard', 'food-other', 'truck', 'crt screen', 'bike rack', 'sandwich', 'dirt track', 'stair', 'plaything', 'ski', 'tent', 'banner', 'seat', 'television receiver']\n",
      "1184 1029\n"
     ]
    }
   ],
   "source": [
    "def load_text_file(file_path):\n",
    "    with open(file_path, 'r') as file:\n",
    "        text = file.read()\n",
    "    return text\n",
    "\n",
    "file_path = 'mmseg_labels_synonyms.txt'\n",
    "text = load_text_file(file_path)\n",
    "\n",
    "# 去掉每行开头的 '-' 并分割成键值对\n",
    "lines = text.strip().split('\\n')\n",
    "dictionary = {}\n",
    "\n",
    "for i, line in enumerate(lines):\n",
    "    key, value = line.strip().split(':')\n",
    "    key = key.strip().lstrip('-').strip()\n",
    "    value = value.strip()\n",
    "    if key in dictionary.keys():\n",
    "        print(key)\n",
    "    dictionary[key] = [val.strip() for val in value.split(',')]\n",
    "\n",
    "print(dictionary)\n",
    "print(len(dictionary))\n",
    "\n",
    "\n",
    "# 假设您已经生成了字典 dictionary\n",
    "\n",
    "# 将字典保存为文件\n",
    "filename = 'mmseg_labels_synonyms_dictionary.json'\n",
    "with open(filename, 'w') as file:\n",
    "    json.dump(dictionary, file)\n",
    "\n",
    "print(\"字典已保存为文件:\", filename)\n",
    "value_list = [dictionary[key] for key in dictionary.keys()]\n",
    "value = [lab for sub_list in value_list for lab in sub_list ]\n",
    "keys = list(dictionary.keys())\n",
    "all_cls = value+keys\n",
    "print(all_cls)\n",
    "print(len(all_cls),len(set(all_cls)))"
   ]
  },
  {
   "cell_type": "code",
   "execution_count": 7,
   "metadata": {},
   "outputs": [
    {
     "name": "stdout",
     "output_type": "stream",
     "text": [
      "[1, 1, 1, 1, 1, 0, 1, 1, 1, 1, 1, 0, 1, 1, 1, 1, 1, 0, 1, 1, 1, 1, 1, 0, 1, 1, 1, 1, 1, 0, 1, 1, 1, 1, 1, 0, 1, 1, 1, 1, 1, 0, 1, 1, 1, 1, 1, 0, 1, 1, 1, 1, 1, 0, 1, 1, 1, 1, 1, 0] 60\n",
      "60\n"
     ]
    }
   ],
   "source": [
    "data = [['airplane', 'aircraft', 'jet', 'airliner', 'plane'],\n",
    "        ['rucksack', 'knapsack', 'haversack', 'pack', 'sack']]\n",
    "\n",
    "labels = []\n",
    "\n",
    "for sublist in data:\n",
    "    for i in range(len(sublist)):\n",
    "        for j in range(len(sublist)):\n",
    "            labels.append(1)  # 正例对的标签为1\n",
    "        labels.append(0)  # 非正例对的标签为0\n",
    "\n",
    "print(labels, len(labels))\n",
    "print(len(labels))"
   ]
  }
 ],
 "metadata": {
  "kernelspec": {
   "display_name": "pytorch",
   "language": "python",
   "name": "pytorch"
  },
  "language_info": {
   "codemirror_mode": {
    "name": "ipython",
    "version": 3
   },
   "file_extension": ".py",
   "mimetype": "text/x-python",
   "name": "python",
   "nbconvert_exporter": "python",
   "pygments_lexer": "ipython3",
   "version": "3.7.15"
  },
  "orig_nbformat": 4
 },
 "nbformat": 4,
 "nbformat_minor": 2
}
